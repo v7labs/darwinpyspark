{
 "cells": [
  {
   "cell_type": "markdown",
   "metadata": {
    "application/vnd.databricks.v1+cell": {
     "cellMetadata": {},
     "inputWidgets": {},
     "nuid": "043b31dd-9668-4f6d-8bde-888636ced9e6",
     "showTitle": false,
     "title": ""
    }
   },
   "source": [
    "<img src=\"https://assets-global.website-files.com/5b26e3fda3234fe366aa392d/5c2d0132868913d90eba845b_v7_logo_Nobg.png\" loading=\"lazy\" sizes=\"40px\" width=\"200\" srcset=\"https://assets-global.website-files.com/5b26e3fda3234fe366aa392d/5c2d0132868913d90eba845b_v7_logo_Nobg-p-500.png 500w, https://assets-global.website-files.com/5b26e3fda3234fe366aa392d/5c2d0132868913d90eba845b_v7_logo_Nobg-p-800.png 800w, https://assets-global.website-files.com/5b26e3fda3234fe366aa392d/5c2d0132868913d90eba845b_v7_logo_Nobg.png 1000w\" alt=\"\" class=\"nav-2022---logo\">\n",
    "<br>\n",
    "<img data-canonical-src=\"https://img.shields.io/badge/GitHub-100000?logo=github&amp;logoColor=white\" alt=\"GitHub\" src=\"https://camo.githubusercontent.com/8fdc8a65f5384d2285b19d3985fa80f21c23634c6de3a0f0d2aff988c96bef9f/68747470733a2f2f696d672e736869656c64732e696f2f62616467652f4769744875622d3130303030303f6c6f676f3d676974687562266c6f676f436f6c6f723d7768697465\">"
   ]
  },
  {
   "cell_type": "markdown",
   "metadata": {
    "application/vnd.databricks.v1+cell": {
     "cellMetadata": {},
     "inputWidgets": {},
     "nuid": "0870d0fb-768e-48ac-90cd-2f0d80a3ead9",
     "showTitle": false,
     "title": ""
    }
   },
   "source": [
    "# V7 Connector for Databricks\n",
    "In this notebook, we will demonstrate how to use the **DarwinPyspark** and **DarwinPy** libraries to manage your data in Databricks and interact with the V7 platform. The library allows you to upload data from a PySpark DataFrame to V7 and download V7 exports as PySpark DataFrames.\n",
    "\n",
    "\n",
    "_If you have any questions or comments, please reach out to us [here](mailto:databricks+partners@v7labs.com)_"
   ]
  },
  {
   "cell_type": "markdown",
   "metadata": {
    "application/vnd.databricks.v1+cell": {
     "cellMetadata": {},
     "inputWidgets": {},
     "nuid": "14a1ed72-96bf-4f16-97f5-5b7dce3b81c3",
     "showTitle": false,
     "title": ""
    }
   },
   "source": [
    "# Requirements"
   ]
  },
  {
   "cell_type": "markdown",
   "metadata": {
    "application/vnd.databricks.v1+cell": {
     "cellMetadata": {},
     "inputWidgets": {},
     "nuid": "6f0cb19b-b042-43ba-961f-620b42875246",
     "showTitle": false,
     "title": ""
    }
   },
   "source": [
    "#### Data\n",
    "\n",
    "- An `object_url` column\n",
    "  - this column must contain open or presigned URLs that point to the asset to be uploaded.\n",
    "- A `file_name` column \n",
    "  - this column contains the name you want to represent the asset in V7 with.\n",
    "\n",
    "#### API Key\n",
    "<br>\n",
    "<div class=\"alert alert-block alert-info\"> <b>Tip:</b> You can generate your API key <a style=\"font_size: 120%; text-decoration: underline; cursor: pointer;\" href=\"https://darwin.v7labs.com/?settings=api-keys\"> here </a> \n",
    "\n",
    ">  Run the cell below for a video guide on how to generate an API key </div>"
   ]
  },
  {
   "cell_type": "code",
   "execution_count": 0,
   "metadata": {
    "application/vnd.databricks.v1+cell": {
     "cellMetadata": {
      "byteLimit": 2048000,
      "rowLimit": 10000
     },
     "inputWidgets": {},
     "nuid": "db2dc7b5-a592-4598-b13a-a841b696b437",
     "showTitle": false,
     "title": ""
    }
   },
   "outputs": [],
   "source": [
    "from IPython.display import IFrame\n",
    "IFrame(\"https://www.loom.com/embed/3d414eb9c0444b0f9309d49b8e393414\", width=950, height=400)"
   ]
  },
  {
   "cell_type": "markdown",
   "metadata": {
    "application/vnd.databricks.v1+cell": {
     "cellMetadata": {},
     "inputWidgets": {},
     "nuid": "25159c0b-cae6-4ced-baef-da2779ec75fb",
     "showTitle": false,
     "title": ""
    }
   },
   "source": [
    "# Code"
   ]
  },
  {
   "cell_type": "markdown",
   "metadata": {
    "application/vnd.databricks.v1+cell": {
     "cellMetadata": {},
     "inputWidgets": {},
     "nuid": "07e034f1-ae58-4eb8-9ff6-b433496dfe4c",
     "showTitle": false,
     "title": ""
    }
   },
   "source": [
    "## Set-Up & Imports"
   ]
  },
  {
   "cell_type": "markdown",
   "metadata": {
    "application/vnd.databricks.v1+cell": {
     "cellMetadata": {},
     "inputWidgets": {},
     "nuid": "a61ecb17-b5fb-42fd-bf04-271008e92009",
     "showTitle": false,
     "title": ""
    }
   },
   "source": [
    "Install `darwinpyspark` and `darwin-py`"
   ]
  },
  {
   "cell_type": "code",
   "execution_count": 0,
   "metadata": {
    "application/vnd.databricks.v1+cell": {
     "cellMetadata": {
      "byteLimit": 2048000,
      "rowLimit": 10000
     },
     "inputWidgets": {},
     "nuid": "91a7558b-7982-449f-ba00-ebaebe7d1b18",
     "showTitle": false,
     "title": ""
    }
   },
   "outputs": [],
   "source": [
    "%pip install darwinpyspark\n",
    "%pip install darwin-py"
   ]
  },
  {
   "cell_type": "markdown",
   "metadata": {
    "application/vnd.databricks.v1+cell": {
     "cellMetadata": {},
     "inputWidgets": {},
     "nuid": "e4bf3355-fa76-48a7-a970-6effddddbdbf",
     "showTitle": false,
     "title": ""
    }
   },
   "source": [
    "Import the required modules"
   ]
  },
  {
   "cell_type": "code",
   "execution_count": 0,
   "metadata": {
    "application/vnd.databricks.v1+cell": {
     "cellMetadata": {
      "byteLimit": 2048000,
      "rowLimit": 10000
     },
     "inputWidgets": {},
     "nuid": "cc2d0839-907e-4e29-9173-d9d3d08fed67",
     "showTitle": false,
     "title": ""
    }
   },
   "outputs": [],
   "source": [
    "# Darwin-Py Modules\n",
    "import darwin\n",
    "from darwin.client import Client\n",
    "\n",
    "# DarwinPyspark Modules\n",
    "from darwinpyspark import DarwinPyspark\n",
    "\n",
    "# Other\n",
    "import pandas as pd\n",
    "from datetime import datetime"
   ]
  },
  {
   "cell_type": "code",
   "execution_count": 0,
   "metadata": {
    "application/vnd.databricks.v1+cell": {
     "cellMetadata": {
      "byteLimit": 2048000,
      "rowLimit": 10000
     },
     "inputWidgets": {},
     "nuid": "ca2c178c-bce2-424f-828e-564c27667e82",
     "showTitle": false,
     "title": ""
    }
   },
   "outputs": [],
   "source": [
    "pd.set_option('max_colwidth', None)"
   ]
  },
  {
   "cell_type": "markdown",
   "metadata": {
    "application/vnd.databricks.v1+cell": {
     "cellMetadata": {},
     "inputWidgets": {},
     "nuid": "23dbf21b-69d7-4686-aa66-6ae77414740d",
     "showTitle": false,
     "title": ""
    }
   },
   "source": [
    "### Authenticate"
   ]
  },
  {
   "cell_type": "code",
   "execution_count": 0,
   "metadata": {
    "application/vnd.databricks.v1+cell": {
     "cellMetadata": {
      "byteLimit": 2048000,
      "rowLimit": 10000
     },
     "inputWidgets": {},
     "nuid": "aa82ae50-94d4-413b-8c42-147db24b00d5",
     "showTitle": false,
     "title": ""
    }
   },
   "outputs": [],
   "source": [
    "API_KEY = \"<your-api-key>\"\n",
    "\n",
    "client = Client.from_api_key(API_KEY)"
   ]
  },
  {
   "cell_type": "markdown",
   "metadata": {
    "application/vnd.databricks.v1+cell": {
     "cellMetadata": {},
     "inputWidgets": {},
     "nuid": "0a960660-cb49-4afc-b67e-a517e532fd3e",
     "showTitle": false,
     "title": ""
    }
   },
   "source": [
    "## Interact With Datasets"
   ]
  },
  {
   "cell_type": "markdown",
   "metadata": {
    "application/vnd.databricks.v1+cell": {
     "cellMetadata": {},
     "inputWidgets": {},
     "nuid": "17c4cda5-38ac-4640-b26f-8d17f5eac040",
     "showTitle": false,
     "title": ""
    }
   },
   "source": [
    "### Create / Load Datasets"
   ]
  },
  {
   "cell_type": "markdown",
   "metadata": {
    "application/vnd.databricks.v1+cell": {
     "cellMetadata": {},
     "inputWidgets": {},
     "nuid": "0177e860-6237-4ed0-ab2a-8853178dbe6d",
     "showTitle": false,
     "title": ""
    }
   },
   "source": [
    "We now either create and connect to a new dataset, or connect with an existing.\n",
    "> Simply change the name of 'dataset_name' in the below cell:"
   ]
  },
  {
   "cell_type": "code",
   "execution_count": 0,
   "metadata": {
    "application/vnd.databricks.v1+cell": {
     "cellMetadata": {
      "byteLimit": 2048000,
      "rowLimit": 10000
     },
     "inputWidgets": {},
     "nuid": "f9790822-5ea6-4514-893c-f01a52298fd3",
     "showTitle": false,
     "title": ""
    }
   },
   "outputs": [],
   "source": [
    "dataset_name = \"Databricks Demo\"\n",
    "slug_dataset_name = dataset_name.lower().strip().replace(' ', '-')\n",
    "\n",
    "try:\n",
    "    dataset = client.create_dataset(dataset_name)\n",
    "    print('New dataset created.')\n",
    "except darwin.exceptions.NameTaken:\n",
    "    dataset = client.get_remote_dataset(slug_dataset_name)\n",
    "    print('Dataset name already created, connected to existing.')"
   ]
  },
  {
   "cell_type": "markdown",
   "metadata": {
    "application/vnd.databricks.v1+cell": {
     "cellMetadata": {},
     "inputWidgets": {},
     "nuid": "3f4ad93b-af33-4638-bb4c-9ac675f719d5",
     "showTitle": false,
     "title": ""
    }
   },
   "source": [
    "### View Datasets"
   ]
  },
  {
   "cell_type": "markdown",
   "metadata": {
    "application/vnd.databricks.v1+cell": {
     "cellMetadata": {},
     "inputWidgets": {},
     "nuid": "f62adbac-8d7a-4667-9623-a9e6725e9e57",
     "showTitle": false,
     "title": ""
    }
   },
   "source": [
    "If you want to view information about your existing datasets, run the below code."
   ]
  },
  {
   "cell_type": "code",
   "execution_count": 0,
   "metadata": {
    "application/vnd.databricks.v1+cell": {
     "cellMetadata": {
      "byteLimit": 2048000,
      "rowLimit": 10000
     },
     "inputWidgets": {},
     "nuid": "9faf678e-e0e7-40ee-b7ac-0b7c44033795",
     "showTitle": false,
     "title": ""
    }
   },
   "outputs": [],
   "source": [
    "[{'name': i.name, 'id': i.dataset_id, 'slug_name': i.slug, 'no_files': i.item_count, 'progress': i.progress} for i in client.list_remote_datasets()]"
   ]
  },
  {
   "cell_type": "markdown",
   "metadata": {
    "application/vnd.databricks.v1+cell": {
     "cellMetadata": {},
     "inputWidgets": {},
     "nuid": "4936dc24-fa2c-4e87-996f-fc2cb41a1453",
     "showTitle": false,
     "title": ""
    }
   },
   "source": [
    "### Upload Data To V7"
   ]
  },
  {
   "cell_type": "markdown",
   "metadata": {
    "application/vnd.databricks.v1+cell": {
     "cellMetadata": {},
     "inputWidgets": {},
     "nuid": "78a04b9d-c59b-406f-b6bd-5bd778f6535c",
     "showTitle": false,
     "title": ""
    }
   },
   "source": [
    "##### Load spark table\n",
    "Load the visual data into a pyspark dataframe. This dataframe should contain the **file_name** and **object_url** of the assets you want to load to V7."
   ]
  },
  {
   "cell_type": "code",
   "execution_count": 0,
   "metadata": {
    "application/vnd.databricks.v1+cell": {
     "cellMetadata": {
      "byteLimit": 2048000,
      "rowLimit": 10000
     },
     "inputWidgets": {},
     "nuid": "41010ebc-7987-4e97-b032-ac2347c1cc16",
     "showTitle": false,
     "title": ""
    }
   },
   "outputs": [],
   "source": [
    "df = spark.read.table(\"v7_sandbox.demo_table\")\n",
    "df.display()"
   ]
  },
  {
   "cell_type": "markdown",
   "metadata": {
    "application/vnd.databricks.v1+cell": {
     "cellMetadata": {},
     "inputWidgets": {},
     "nuid": "31aefdf1-d3c4-4c96-8e7d-d239dacebdf5",
     "showTitle": false,
     "title": ""
    }
   },
   "source": [
    "Initialise `darwinpsypark` using your _API Key_, your _team name_ and your _dataset name_ in V7"
   ]
  },
  {
   "cell_type": "code",
   "execution_count": 0,
   "metadata": {
    "application/vnd.databricks.v1+cell": {
     "cellMetadata": {
      "byteLimit": 2048000,
      "rowLimit": 10000
     },
     "inputWidgets": {},
     "nuid": "49e06ad3-54bb-4642-9a64-10e4afa2cdee",
     "showTitle": false,
     "title": ""
    }
   },
   "outputs": [],
   "source": [
    "dp = DarwinPyspark(API_KEY, \"<your-team-name\", \"<your-dataset-name>\")"
   ]
  },
  {
   "cell_type": "markdown",
   "metadata": {
    "application/vnd.databricks.v1+cell": {
     "cellMetadata": {},
     "inputWidgets": {},
     "nuid": "5c855c8c-d232-46e3-95b3-69866573e088",
     "showTitle": false,
     "title": ""
    }
   },
   "source": [
    "Then you can call the `upload_items()` method, to iterate over your table and send the data to V7."
   ]
  },
  {
   "cell_type": "code",
   "execution_count": 0,
   "metadata": {
    "application/vnd.databricks.v1+cell": {
     "cellMetadata": {
      "byteLimit": 2048000,
      "rowLimit": 10000
     },
     "inputWidgets": {},
     "nuid": "caf4f14f-20cb-45fb-92ac-8f4ef7dce1d0",
     "showTitle": false,
     "title": ""
    }
   },
   "outputs": [],
   "source": [
    "dp.upload_items(df)"
   ]
  },
  {
   "cell_type": "markdown",
   "metadata": {
    "application/vnd.databricks.v1+cell": {
     "cellMetadata": {},
     "inputWidgets": {},
     "nuid": "e7aa8807-fc81-4eef-a41f-4138e108a463",
     "showTitle": false,
     "title": ""
    }
   },
   "source": [
    "### Download Data"
   ]
  },
  {
   "cell_type": "markdown",
   "metadata": {
    "application/vnd.databricks.v1+cell": {
     "cellMetadata": {},
     "inputWidgets": {},
     "nuid": "d332f177-cd1c-4d9e-a7ae-2b8cbd19d153",
     "showTitle": false,
     "title": ""
    }
   },
   "source": [
    "#### Create an export"
   ]
  },
  {
   "cell_type": "code",
   "execution_count": 0,
   "metadata": {
    "application/vnd.databricks.v1+cell": {
     "cellMetadata": {
      "byteLimit": 2048000,
      "rowLimit": 10000
     },
     "inputWidgets": {},
     "nuid": "37e9777b-ef97-4613-b6f4-bdd93293567d",
     "showTitle": false,
     "title": ""
    }
   },
   "outputs": [],
   "source": [
    "export_name = f\"databricks-export-{datetime.now().strftime('%H:%M')}\".lower().strip().replace(' ', '-') #this should be in slug format\n",
    "dataset.export(export_name)\n",
    "export_name"
   ]
  },
  {
   "cell_type": "markdown",
   "metadata": {
    "application/vnd.databricks.v1+cell": {
     "cellMetadata": {},
     "inputWidgets": {},
     "nuid": "855812c1-e831-4c57-af99-d7465fa6d485",
     "showTitle": false,
     "title": ""
    }
   },
   "source": [
    "#### Download an export"
   ]
  },
  {
   "cell_type": "code",
   "execution_count": 0,
   "metadata": {
    "application/vnd.databricks.v1+cell": {
     "cellMetadata": {
      "byteLimit": 2048000,
      "rowLimit": 10000
     },
     "inputWidgets": {},
     "nuid": "d5a2d4f5-94d0-4a31-98f1-cec66709dbe3",
     "showTitle": false,
     "title": ""
    }
   },
   "outputs": [],
   "source": [
    "export_df = dp.download_export(export_name)\n",
    "export_df.toPandas()"
   ]
  }
 ],
 "metadata": {
  "application/vnd.databricks.v1+notebook": {
   "dashboards": [],
   "language": "python",
   "notebookMetadata": {
    "pythonIndentUnit": 4
   },
   "notebookName": "Interact With Darwin",
   "notebookOrigID": 3942149412680300,
   "widgets": {}
  }
 },
 "nbformat": 4,
 "nbformat_minor": 0
}
